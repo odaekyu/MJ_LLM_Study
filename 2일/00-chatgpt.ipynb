{
 "cells": [
  {
   "cell_type": "code",
   "execution_count": null,
   "metadata": {},
   "outputs": [],
   "source": [
    "!pip install openai==0.28"
   ]
  },
  {
   "cell_type": "code",
   "execution_count": 23,
   "metadata": {},
   "outputs": [
    {
     "name": "stdout",
     "output_type": "stream",
     "text": [
      "```python\n",
      "answer = ['중립', '부정', '긍정']\n",
      "```\n"
     ]
    }
   ],
   "source": [
    "import openai\n",
    "openai.api_key = \"\"\n",
    "\n",
    "# 메시지와 하이퍼파라미터들을 설정하는 함수\n",
    "def generate_response(system_message, user_message, model=\"gpt-3.5-turbo\", max_tokens=4096, temperature=0, top_p=1, n=1, stream=False, stop=None, presence_penalty=0, frequency_penalty=0, logit_bias=None, user=None):\n",
    "    response = openai.ChatCompletion.create(\n",
    "        model=model,\n",
    "        messages=[\n",
    "            {\"role\": \"system\", \"content\": system_message},\n",
    "            {\"role\": \"user\", \"content\": user_message}\n",
    "        ],\n",
    "        max_tokens=max_tokens,\n",
    "        temperature=temperature,\n",
    "        top_p=top_p,\n",
    "        n=n,\n",
    "        stream=stream,\n",
    "        stop=stop,\n",
    "        presence_penalty=presence_penalty,\n",
    "        frequency_penalty=frequency_penalty,\n",
    "        logit_bias=logit_bias,\n",
    "        user=user\n",
    "    )\n",
    "    return response['choices'][0]['message']['content']\n",
    "\n",
    "# 예시 사용법\n",
    "system_msg = \"\"\"너는 이름이 명지봇이야. \n",
    "다음의 주어진 문장의 중립, 부정, 긍정을 작성해주세요.\n",
    "대답을 리스트 형식으로 답변해주세요. 리스트의 변수는 answer로 정의해주세요.\n",
    "\"\"\"\n",
    "user_msg = \"\"\"\n",
    "문장 : 나는 이 음식이 그냥 그렇다고 생각해.\n",
    "감정 : \n",
    "\n",
    "문장 : 나는 이 영화가 정말 재미 없어.\n",
    "감정 : \n",
    "\n",
    "문장 : 나는 명대학교 학식이 맛있어.\n",
    "감정 : \n",
    "\"\"\"\n",
    "\n",
    "response = generate_response(system_msg, user_msg, model=\"gpt-3.5-turbo\", max_tokens=500, temperature=0.2, top_p=1, n=1, stream=False, stop=None, presence_penalty=0, frequency_penalty=0, logit_bias=None, user=None)\n",
    "print(response)"
   ]
  },
  {
   "cell_type": "code",
   "execution_count": null,
   "metadata": {},
   "outputs": [],
   "source": []
  },
  {
   "cell_type": "code",
   "execution_count": null,
   "metadata": {},
   "outputs": [],
   "source": []
  },
  {
   "cell_type": "code",
   "execution_count": null,
   "metadata": {},
   "outputs": [],
   "source": []
  },
  {
   "cell_type": "code",
   "execution_count": null,
   "metadata": {},
   "outputs": [],
   "source": []
  }
 ],
 "metadata": {
  "kernelspec": {
   "display_name": "venv",
   "language": "python",
   "name": "python3"
  },
  "language_info": {
   "codemirror_mode": {
    "name": "ipython",
    "version": 3
   },
   "file_extension": ".py",
   "mimetype": "text/x-python",
   "name": "python",
   "nbconvert_exporter": "python",
   "pygments_lexer": "ipython3",
   "version": "3.12.3"
  }
 },
 "nbformat": 4,
 "nbformat_minor": 2
}
