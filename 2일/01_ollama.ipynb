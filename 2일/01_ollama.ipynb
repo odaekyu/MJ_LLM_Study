{
 "cells": [
  {
   "cell_type": "code",
   "execution_count": 1,
   "metadata": {},
   "outputs": [
    {
     "name": "stdout",
     "output_type": "stream",
     "text": [
      "hello, World!\n"
     ]
    }
   ],
   "source": [
    "print(\"hello, World!\")"
   ]
  },
  {
   "cell_type": "code",
   "execution_count": null,
   "metadata": {},
   "outputs": [],
   "source": []
  },
  {
   "cell_type": "markdown",
   "metadata": {},
   "source": [
    "# Ollama run test : ollama pull qwen2:1.5b-instruct"
   ]
  },
  {
   "cell_type": "code",
   "execution_count": 3,
   "metadata": {},
   "outputs": [
    {
     "name": "stdout",
     "output_type": "stream",
     "text": [
      "안녕하세요! 저는 대형 회사에서 일하는 사용자 관리 프로세스에 대해 알고 있는 전문가입니다. 또한 데이터 분석 및 기계 학습에 관한 지식도 가지고 있습니다. 여러분이 어떻게 도와드릴 수 있을지 궁금합니다.\n"
     ]
    }
   ],
   "source": [
    "#local ollama inference\n",
    "\n",
    "import ollama\n",
    "\n",
    "response = ollama.chat(model='qwen2:1.5b-instruct', messages=[\n",
    "    {'role': 'system', 'content': '당신은 유용한 인공지능 어시스턴트입니다.'},\n",
    "    {'role': 'user', 'content': '안녕하세요. 자기소개 부탁합니다.'}\n",
    "])\n",
    "\n",
    "print(response['message']['content'])"
   ]
  },
  {
   "cell_type": "markdown",
   "metadata": {},
   "source": [
    "# Ngrok 터널링"
   ]
  },
  {
   "cell_type": "code",
   "execution_count": null,
   "metadata": {},
   "outputs": [],
   "source": [
    "!pip install langchain langchain-community"
   ]
  },
  {
   "cell_type": "code",
   "execution_count": 2,
   "metadata": {},
   "outputs": [
    {
     "name": "stdout",
     "output_type": "stream",
     "text": [
      "content='안녕하세요! 저는 인공지능 비서로, 다양한 업무를 도와드릴 수 있습니다.\\n\\n1. 정보 검색: 특정 주제에 대한 정보를 찾아드릴 수 있습니다.\\n2. 일정 관리: 회의 시간을 정하고 알림을 설정하거나, 일정을 추가, 수정 또는 삭제할 수 있습니다.\\n3. 이메일 관리: 이메일을 확인하고 읽고, 필요한 경우 대답을 도와드릴 수 있습니다.\\n4. 전화 통화: 필요에 따라 자동으로 전화를 연결하거나, 특정 시간에 전화를 자동으로 걸어줄 수 있습니다.\\n5. 웹 검색: 인터넷에서 정보를 찾아드릴 수 있으며, 이는 뉴스, 날씨, 주식 등 다양한 분야에 적용할 수 있습니다.\\n\\n이 외에도 여러 가지 다른 업무를 도와드리는데 능력이 있습니다. 필요한 것이 있으시면 언제든지 말씀해주세요!' response_metadata={'model': 'qwen2:latest', 'created_at': '2024-06-15T13:43:30.193452228Z', 'message': {'role': 'assistant', 'content': ''}, 'done_reason': 'stop', 'done': True, 'total_duration': 5454244409, 'load_duration': 1542720, 'prompt_eval_count': 17, 'prompt_eval_duration': 226078000, 'eval_count': 214, 'eval_duration': 5098706000} id='run-7ced8669-e92f-4251-a242-840769d932ca-0'\n"
     ]
    }
   ],
   "source": [
    "from langchain_community.chat_models import ChatOllama\n",
    "\n",
    "#base_url은 잘 바뀌니, ngrok으로 터널링할 때마다 잘 바꿔줄 것 \n",
    "model = ChatOllama(model=\"qwen2:latest\", temperature=0,\n",
    "                   base_url=\"ngrok 주소\") \n",
    "\n",
    "response = model.invoke(\"안녕하세요. 할 수 있는 업무는 무엇입니까? \")\n",
    "\n",
    "print(response)"
   ]
  }
 ],
 "metadata": {
  "kernelspec": {
   "display_name": "venv",
   "language": "python",
   "name": "python3"
  },
  "language_info": {
   "codemirror_mode": {
    "name": "ipython",
    "version": 3
   },
   "file_extension": ".py",
   "mimetype": "text/x-python",
   "name": "python",
   "nbconvert_exporter": "python",
   "pygments_lexer": "ipython3",
   "version": "3.11.9"
  }
 },
 "nbformat": 4,
 "nbformat_minor": 2
}
