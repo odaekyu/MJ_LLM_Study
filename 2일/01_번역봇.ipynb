{
 "cells": [
  {
   "cell_type": "code",
   "execution_count": 9,
   "metadata": {},
   "outputs": [
    {
     "name": "stdout",
     "output_type": "stream",
     "text": [
      "<원문> 나는 밥을 에슐리에서 먹어서 배가 너무 불러.\n",
      "<번역> I ate rice at Ashley's and now I'm too full.\n"
     ]
    }
   ],
   "source": [
    "import openai\n",
    "openai.api_key = \"\"\n",
    "\n",
    "# 메시지와 하이퍼파라미터들을 설정하는 함수\n",
    "def generate_response(system_message, user_message, model=\"gpt-3.5-turbo\", max_tokens=4096, temperature=0, top_p=1, n=1, stream=False, stop=None, presence_penalty=0, frequency_penalty=0, logit_bias=None, user=None):\n",
    "    response = openai.ChatCompletion.create(\n",
    "        model=model,\n",
    "        messages=[\n",
    "            {\"role\": \"system\", \"content\": system_message},\n",
    "            {\"role\": \"user\", \"content\": user_message}\n",
    "        ],\n",
    "        max_tokens=max_tokens,\n",
    "        temperature=temperature,\n",
    "        top_p=top_p,\n",
    "        n=n,\n",
    "        stream=stream,\n",
    "        stop=stop,\n",
    "        presence_penalty=presence_penalty,\n",
    "        frequency_penalty=frequency_penalty,\n",
    "        logit_bias=logit_bias,\n",
    "        user=user\n",
    "    )\n",
    "    return response['choices'][0]['message']['content']\n",
    "\n",
    "# 예시 사용법\n",
    "system_msg = \"\"\"\n",
    "\n",
    "### Instruction \n",
    "너는 이름이 명지봇이야.\n",
    "너는 지금부터 전문 번역가야  \n",
    "너의 역할은 주어진 언어를 영어로 번역하는 것이야.\n",
    "너는 사용자의 입력을 출력하고, 그 아래에 번역한 내용을 넣어줘. \n",
    "\n",
    "원문 : 사용자 입력\n",
    "번역 : 사용자 입력을 번역한 내용\n",
    "\n",
    "출력 템플릿은 다음과 같아.\n",
    "<원문> 내 이름은 홍길동이야.\n",
    "<번역> My name is Hong-gil-dong.\n",
    "\n",
    "\n",
    "\"\"\"\n",
    "text = \"나는 밥을 에슐리에서 먹어서 배가 너무 불러.\"\n",
    "user_msg = f\"\"\"\n",
    "\n",
    "### Question\n",
    " <원문> {text}\n",
    " <번역> \n",
    "\"\"\"\n",
    "\n",
    "response = generate_response(system_msg, user_msg, model=\"gpt-3.5-turbo\", max_tokens=500, temperature=0.5, top_p=1, n=1, stream=False, stop=None, presence_penalty=0, frequency_penalty=0, logit_bias=None, user=None)\n",
    "print(response)"
   ]
  },
  {
   "cell_type": "code",
   "execution_count": null,
   "metadata": {},
   "outputs": [],
   "source": []
  }
 ],
 "metadata": {
  "kernelspec": {
   "display_name": "venv",
   "language": "python",
   "name": "python3"
  },
  "language_info": {
   "codemirror_mode": {
    "name": "ipython",
    "version": 3
   },
   "file_extension": ".py",
   "mimetype": "text/x-python",
   "name": "python",
   "nbconvert_exporter": "python",
   "pygments_lexer": "ipython3",
   "version": "3.12.3"
  }
 },
 "nbformat": 4,
 "nbformat_minor": 2
}
